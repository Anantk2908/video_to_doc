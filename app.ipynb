{
 "cells": [
  {
   "cell_type": "markdown",
   "metadata": {},
   "source": [
    "# Functions"
   ]
  },
  {
   "cell_type": "code",
   "execution_count": null,
   "metadata": {},
   "outputs": [],
   "source": [
    "from pytubefix import YouTube\n",
    "import whisper\n",
    "from datetime import timedelta\n",
    "import google.generativeai as genai\n",
    "import os\n",
    "import re\n",
    "import json\n",
    "from docx import Document"
   ]
  },
  {
   "cell_type": "code",
   "execution_count": null,
   "metadata": {},
   "outputs": [],
   "source": [
    "def download_audio(url):\n",
    "    yt = YouTube(url)\n",
    "    yt.streams.get_audio_only().download(filename=\"Audio.mp3\")"
   ]
  },
  {
   "cell_type": "code",
   "execution_count": null,
   "metadata": {},
   "outputs": [],
   "source": [
    "def format_time(seconds):\n",
    "    return str(timedelta(seconds=round(seconds, 2)))\n",
    "\n",
    "def transcription(path_to_audio = \"Audio.mp3\"):\n",
    "    model = whisper.load_model(\"tiny\")\n",
    "    result = model.transcribe(\"Audio.mp3\")\n",
    "    data = \"\"\n",
    "    for i in range(len(result[\"segments\"])):\n",
    "        text = result[\"segments\"][i][\"text\"]\n",
    "        start_time = format_time(result[\"segments\"][i]['start'])\n",
    "        end_time = format_time(result[\"segments\"][i]['end'])\n",
    "        \n",
    "        data += f'{text} Start Time: {start_time} End Time: {end_time}\\n'\n",
    "\n",
    "    return(data)"
   ]
  },
  {
   "cell_type": "code",
   "execution_count": null,
   "metadata": {},
   "outputs": [],
   "source": [
    "def generate_json(data):\n",
    "    prompt = (\n",
    "    \"You are an expert in creating structured JSON responses from video transcripts to be converted into detailed Word documents. \"\n",
    "    \"Format the JSON to include a 'title' field, followed by a 'table_of_contents' field as an array listing the main sections. \"\n",
    "    \"Then use a 'sections' field as an array, where each object includes:\\n\"\n",
    "    \"1. A 'heading' field for the main section title,\\n\"\n",
    "    \"2. A 'content' field with relevant quotes and timestamps (e.g., [00:05:12]) based on the transcript content. Skip any sponsored segments and focus only on the main content of the video.\\n\\n\"\n",
    "    \"Format Example:\\n\"\n",
    "    \"{\\n\"\n",
    "    \"    'title': 'Document Title',\\n\"\n",
    "    \"    'table_of_contents': ['Section 1', 'Section 2'],\\n\"\n",
    "    \"    'sections': [\\n\"\n",
    "    \"        {\\n\"\n",
    "    \"            'heading': 'Section 1',\\n\"\n",
    "    \"            'content': '...'\\n\"\n",
    "    \"        },\\n\"\n",
    "    \"        {\\n\"\n",
    "    \"            'heading': 'Section 2',\\n\"\n",
    "    \"            'content': '...'\\n\"\n",
    "    \"        }\\n\"\n",
    "    \"    ]\\n\"\n",
    "    \"}\\n\\n\"\n",
    "    f\"Video Transcript: {data}\\n\"\n",
    "    \"JSON Output:\"\n",
    "    )\n",
    "    genai.configure(api_key=os.environ[\"GEMINI_API_KEY\"])\n",
    "    model = genai.GenerativeModel(model_name=\"gemini-1.5-pro-002\")\n",
    "    #print(model.count_tokens(prompt))\n",
    "    response = model.generate_content(prompt)\n",
    "    cleaned_content = re.sub(r\"```json\\s*|\\s*```\", \"\", response.text, flags=re.DOTALL).strip()\n",
    "    return(cleaned_content)    "
   ]
  },
  {
   "cell_type": "code",
   "execution_count": null,
   "metadata": {},
   "outputs": [],
   "source": [
    "def generate_document(JSON):\n",
    "    data = JSON\n",
    "    data = json.loads(data)\n",
    "    doc = Document()\n",
    "    doc.add_heading(data['title'], level=1)\n",
    "    doc.add_heading(\"Table of Contents\", level=2)\n",
    "    for i, toc_item in enumerate(data['table_of_contents'], start=1):\n",
    "        doc.add_paragraph(f\"{i}. {toc_item}\")\n",
    "    for section in data['sections']:\n",
    "        doc.add_heading(section['heading'], level=2) \n",
    "        doc.add_paragraph(section['content'])\n",
    "    doc_title = data['title'].replace(\" \", \"_\") + \".docx\"\n",
    "    doc.save(doc_title)\n",
    "    print(f\"Document '{doc_title}' created successfully!\")"
   ]
  },
  {
   "cell_type": "code",
   "execution_count": null,
   "metadata": {},
   "outputs": [],
   "source": [
    "def final(yt_url):\n",
    "    download_audio(yt_url)\n",
    "    generate_document(generate_json(transcription()))"
   ]
  }
 ],
 "metadata": {
  "kernelspec": {
   "display_name": ".venv",
   "language": "python",
   "name": "python3"
  },
  "language_info": {
   "name": "python",
   "version": "3.9.6"
  }
 },
 "nbformat": 4,
 "nbformat_minor": 2
}
